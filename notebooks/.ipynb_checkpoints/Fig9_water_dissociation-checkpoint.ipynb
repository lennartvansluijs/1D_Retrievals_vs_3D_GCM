{
 "cells": [
  {
   "cell_type": "markdown",
   "id": "93717075-fa0b-43ac-a684-fe03a9ad582e",
   "metadata": {
    "tags": []
   },
   "source": [
    "# Figure 9 - Water dissociation\n",
    "This Jupyter notebooks reproduces Figure 9. The output .png and .pdf files are saved in <em>/figures</em>. 1D spectra with and without water dissociation to show there is a negligible difference between them for our 1D retrieved P-T range."
   ]
  },
  {
   "cell_type": "code",
   "execution_count": 18,
   "id": "f1e000c7-4e3c-4a51-a9f5-b26445934e30",
   "metadata": {
    "tags": []
   },
   "outputs": [],
   "source": [
    "%matplotlib inline\n",
    "import os\n",
    "import sys\n",
    "from matplotlib import pyplot as plt\n",
    "import numpy as np\n",
    "from scipy.interpolate import RegularGridInterpolator\n",
    "from astropy.io import fits\n",
    "import pickle\n",
    "import h5py"
   ]
  },
  {
   "cell_type": "code",
   "execution_count": 19,
   "id": "c75e471b-8c76-4d8f-b7b2-22f250bec708",
   "metadata": {
    "tags": []
   },
   "outputs": [],
   "source": [
    "def flux_density_wav2freq(flux_density_wl, wl):\n",
    "    \"\"\"All units must be cgs units for this to work.\"\"\"\n",
    "    c = 2.998e10 # cm / s\n",
    "    flux_density_freq = flux_density_wl * ( wl**2 / c )\n",
    "    return flux_density_freq\n",
    "\n",
    "def conv2instr(f, vbroad, vinst=6.6):\n",
    "    if vinst == 0. and vbroad == 0.:\n",
    "        return f\n",
    "    FWHM = 125e3 / ( 2.99792e5 / (vinst+vbroad) )\n",
    "    xker = np.arange(41)-20\n",
    "    sigma = FWHM/(2. * np.sqrt(2.0*np.log(2.0)))\n",
    "    yker = np.exp(-0.5 * (xker / sigma)**2.0) # Gaussian\n",
    "    yker /= yker.sum() # Normalised Gaussian\n",
    "    f_conv = np.convolve(f, yker, mode='same')\n",
    "    return f_conv"
   ]
  },
  {
   "cell_type": "markdown",
   "id": "60b8a69a-2321-4a39-a017-8902a3873015",
   "metadata": {},
   "source": [
    "Pick one of the models to plot to check if it is approximately at the right temperature by black body comparison."
   ]
  },
  {
   "cell_type": "code",
   "execution_count": null,
   "id": "361b53ac-31d0-48e2-aa4f-ecb596f440df",
   "metadata": {
    "tags": []
   },
   "outputs": [],
   "source": [
    "%matplotlib inline\n",
    "import matplotlib.gridspec as gridspec\n",
    "from matplotlib import colormaps\n",
    "from scipy import interpolate\n",
    "cmap = colormaps['plasma']\n",
    "c_list = [cmap(0.2), cmap(0.4), cmap(0.6), cmap(0.8)]\n",
    "\n",
    "plt.close()\n",
    "fig = plt.figure(figsize=(5.,5.*1.68))\n",
    "gs = gridspec.GridSpec(nrows=3, ncols=2, height_ratios=[0.33,0.33,0.33], width_ratios=[1.,0.25], hspace=0.)\n",
    "ax = fig.add_subplot(gs[0,0])\n",
    "lax = fig.add_subplot(gs[0,1])\n",
    "\n",
    "ax2 = fig.add_subplot(gs[2,0])\n",
    "lax2 = fig.add_subplot(gs[2,1])\n",
    "\n",
    "ax3 = fig.add_subplot(gs[1,0])\n",
    "lax3 = fig.add_subplot(gs[1,1])\n",
    "\n",
    "\n",
    "ax2.set_xlabel('Wavelength (micron)', size=15)\n",
    "ax3.set_ylabel(' '*22+ r'Flux (ergs/s/cm$^2$/Hz)' r'$\\times$ 10$^{-5}$', size=15)\n",
    "\n",
    "dvsys= 0# -1.8 \n",
    "dKp= 0#2.7\n",
    "RV = dvsys + dKp * np.sin(0.59)\n",
    "dl_l = RV / 2.99792e5\n",
    "\n",
    "model_list = ['../data/spectra/fm_dopon.pic', '../data/spectra/fm_dopon_H2O_dissociated.pic']\n",
    "c_list = ['b', 'orange']\n",
    "label_list = ['no\\ndissociation', 'H$_2$O'+'\\ndissociated']\n",
    "ls_list = ['-', '--']\n",
    "fluxes = []\n",
    "for model, c, l, ls in zip(model_list, c_list, label_list, ls_list):\n",
    "    wn, flux = pickle.load(open(model, 'rb'))\n",
    "    wl = 1e4/wn\n",
    "    flux = flux_density_wav2freq(flux*(1e2)**-3, wl*1e-4) * 1e7\n",
    "\n",
    "    wShift = wl * (1.0 - dl_l)\n",
    "    flux = conv2instr(flux, vbroad=3.9, vinst=0)\n",
    "    cs_p = interpolate.splrep(wl[::-1], flux[::-1])\n",
    "    flux = interpolate.splev(wShift, cs_p, der=0)\n",
    "\n",
    "    ax.plot(wl, flux/1e-5, color=c, lw=2, label=l, ls=ls)\n",
    "    fluxes.append(flux)\n",
    "    \n",
    "ax3.plot(wl, (fluxes[0]-fluxes[1])/1e-5, color='gray', lw=2, label='residual')\n",
    "\n",
    "files = ['', '']\n",
    "colors = ['b', 'r']\n",
    "opacities = [r'H$_2$O', 'CO']\n",
    "for opacity, color, file in zip(opacities, colors, files):\n",
    "    if opacity == 'CO':\n",
    "        d = pickle.load(open('../data/opacities/fig9_CO.pkl', 'rb'))\n",
    "        ax2.fill_between(d[0], d[1], -99, label=f'{opacity}', alpha=1, color=f'{color}')\n",
    "    if opacity == r'H$_2$O':\n",
    "        d = pickle.load(open('../data/opacities/fig9_H2O.pkl', 'rb'))\n",
    "        ax2.fill_between(d[0], d[1], -99, label=f'{opacity}', alpha=1, color=f'{color}')\n",
    "\n",
    "ax2.set_ylabel(f'log(X$_i$)', size=15)\n",
    "ax2.set_ylim(-31,-23)\n",
    "xmin = 1.8305\n",
    "xmax = 1.8315\n",
    "\n",
    "ax.set_xlim(xmin,xmax)\n",
    "ax2.set_xlim(xmin,xmax)\n",
    "ax3.set_xlim(xmin,xmax)\n",
    "\n",
    "ax2.set_yticks([-30,-28,-26, -24])\n",
    "\n",
    "ax.spines['top'].set_visible(False) \n",
    "ax2.spines['right'].set_visible(False)\n",
    "ax3.spines['right'].set_visible(False)\n",
    "ax.spines['right'].set_visible(False)\n",
    "lax.axis('off')\n",
    "lax2.axis('off')\n",
    "lax3.axis('off')\n",
    "\n",
    "\n",
    "ax.set_ylim(0.1, 0.35)\n",
    "\n",
    "ax.legend(bbox_to_anchor = (1.25, 0.5), facecolor='white', framealpha=1., loc='center', frameon=False, fontsize=15)\n",
    "ax2.legend(bbox_to_anchor = (1.25, 0.5), facecolor='white', framealpha=1., loc='center', frameon=False, fontsize=15)\n",
    "ax3.legend(bbox_to_anchor = (1.25, 0.5), facecolor='white', framealpha=1., loc='center', frameon=False, fontsize=15)\n",
    "\n",
    "ax3.set_xticks([1.8305, 1.831, 1.8315])\n",
    "ax.set_xticks([1.8305, 1.831, 1.8315])\n",
    "ax2.set_xticks([1.8305, 1.831, 1.8315])\n",
    "\n",
    "\n",
    "ax.tick_params(axis='both', which='major', labelsize=13)\n",
    "ax2.tick_params(axis='both', which='major', labelsize=13)\n",
    "ax3.tick_params(axis='both', which='major', labelsize=13)\n",
    "\n",
    "ax3.set_ylim(-0.001,0.01)\n",
    "ax3.set_xticklabels([])\n",
    "ax.set_xticklabels([])\n",
    "ax3.set_yticks([0, 0.0025,0.005])\n",
    "ax3.set_yticklabels([0, 0.0025, 0.005])\n",
    "ax3.axhline(y=0, ls='-', lw=0.5, color='k')\n",
    "\n",
    "dirout='../figures/'\n",
    "plt.savefig(os.path.join(dirout, f'Fig9_water_dissociation.png'), dpi=200, bbox_inches='tight')\n",
    "plt.savefig(os.path.join(dirout, f'Fig9_water_dissociation.pdf'), bbox_inches='tight')\n",
    "plt.show()"
   ]
  },
  {
   "cell_type": "code",
   "execution_count": null,
   "id": "fe94cdaf-1bb8-45b2-ab6e-41b526626da7",
   "metadata": {},
   "outputs": [],
   "source": []
  }
 ],
 "metadata": {
  "kernelspec": {
   "display_name": "Python 3 (ipykernel)",
   "language": "python",
   "name": "python3"
  },
  "language_info": {
   "codemirror_mode": {
    "name": "ipython",
    "version": 3
   },
   "file_extension": ".py",
   "mimetype": "text/x-python",
   "name": "python",
   "nbconvert_exporter": "python",
   "pygments_lexer": "ipython3",
   "version": "3.11.5"
  }
 },
 "nbformat": 4,
 "nbformat_minor": 5
}
